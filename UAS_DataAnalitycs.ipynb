{
  "nbformat": 4,
  "nbformat_minor": 0,
  "metadata": {
    "colab": {
      "name": "UAS_DataAnalitycs.ipynb",
      "provenance": [],
      "collapsed_sections": [],
      "authorship_tag": "ABX9TyMdPDNJtCbz7s/8g86mf8+P",
      "include_colab_link": true
    },
    "kernelspec": {
      "name": "python3",
      "display_name": "Python 3"
    },
    "language_info": {
      "name": "python"
    }
  },
  "cells": [
    {
      "cell_type": "markdown",
      "metadata": {
        "id": "view-in-github",
        "colab_type": "text"
      },
      "source": [
        "<a href=\"https://colab.research.google.com/github/dewa796/UAS_DataAnalytics/blob/main/UAS_DataAnalitycs.ipynb\" target=\"_parent\"><img src=\"https://colab.research.google.com/assets/colab-badge.svg\" alt=\"Open In Colab\"/></a>"
      ]
    },
    {
      "cell_type": "code",
      "source": [
        "!pip install apyori"
      ],
      "metadata": {
        "colab": {
          "base_uri": "https://localhost:8080/"
        },
        "id": "y9zjNjqOLTvO",
        "outputId": "0822603c-5a32-4f24-8f39-a8acb6d522ea"
      },
      "execution_count": 19,
      "outputs": [
        {
          "output_type": "stream",
          "name": "stdout",
          "text": [
            "Looking in indexes: https://pypi.org/simple, https://us-python.pkg.dev/colab-wheels/public/simple/\n",
            "Collecting apyori\n",
            "  Downloading apyori-1.1.2.tar.gz (8.6 kB)\n",
            "Building wheels for collected packages: apyori\n",
            "  Building wheel for apyori (setup.py) ... \u001b[?25l\u001b[?25hdone\n",
            "  Created wheel for apyori: filename=apyori-1.1.2-py3-none-any.whl size=5974 sha256=1ca1ad7be8204c622a081a79b2a4b72cdcda00e70eb0efec68c6cf22a9d60374\n",
            "  Stored in directory: /root/.cache/pip/wheels/cb/f6/e1/57973c631d27efd1a2f375bd6a83b2a616c4021f24aab84080\n",
            "Successfully built apyori\n",
            "Installing collected packages: apyori\n",
            "Successfully installed apyori-1.1.2\n"
          ]
        }
      ]
    },
    {
      "cell_type": "code",
      "source": [
        "import numpy as np\n",
        "import pandas as pd\n",
        "import plotly.graph_objects as go\n",
        "import plotly.express as px\n",
        "import matplotlib.pyplot as plt\n",
        "from apyori import apriori"
      ],
      "metadata": {
        "id": "hiKxnKp0MCsn"
      },
      "execution_count": 20,
      "outputs": []
    },
    {
      "cell_type": "code",
      "source": [
        "df = pd.read_csv('../content/Groceries_dataset.csv', parse_dates=['Date'])"
      ],
      "metadata": {
        "id": "F44L4DYlMGNu"
      },
      "execution_count": 21,
      "outputs": []
    },
    {
      "cell_type": "code",
      "source": [
        "df.shape"
      ],
      "metadata": {
        "id": "CAsq6YHoMNTN"
      },
      "execution_count": null,
      "outputs": []
    },
    {
      "cell_type": "code",
      "source": [
        "df.columns"
      ],
      "metadata": {
        "id": "tWH0cz1GMQyE"
      },
      "execution_count": null,
      "outputs": []
    },
    {
      "cell_type": "code",
      "source": [
        "df.head()"
      ],
      "metadata": {
        "id": "khDpQVsZMbst"
      },
      "execution_count": null,
      "outputs": []
    },
    {
      "cell_type": "code",
      "source": [
        "df.isnull().any()"
      ],
      "metadata": {
        "id": "6egDRzp1Md5e"
      },
      "execution_count": null,
      "outputs": []
    },
    {
      "cell_type": "code",
      "source": [
        "all_products = df['itemDescription'].unique()\n",
        "print(\"Total products: {}\".format(len(all_products)))"
      ],
      "metadata": {
        "id": "G07lJKMrMjFQ"
      },
      "execution_count": null,
      "outputs": []
    },
    {
      "cell_type": "code",
      "source": [
        "df['itemDescription'].value_counts()"
      ],
      "metadata": {
        "id": "lQTig1yxMoK-"
      },
      "execution_count": null,
      "outputs": []
    },
    {
      "cell_type": "code",
      "source": [
        "df['Member_number'].value_counts()"
      ],
      "metadata": {
        "id": "ouZOfJW6Msls"
      },
      "execution_count": null,
      "outputs": []
    },
    {
      "cell_type": "code",
      "source": [
        "def ditribution_plot(x,y,name=None,xaxis=None,yaxis=None):\n",
        "    fig = go.Figure([\n",
        "        go.Bar(x=x, y=y)\n",
        "    ])\n",
        "\n",
        "    fig.update_layout(\n",
        "        title_text=name,\n",
        "        xaxis_title=xaxis,\n",
        "        yaxis_title=yaxis\n",
        "    )\n",
        "    fig.show()"
      ],
      "metadata": {
        "id": "_16MUJQwMwTh"
      },
      "execution_count": 29,
      "outputs": []
    },
    {
      "cell_type": "code",
      "source": [
        "x = df['itemDescription'].value_counts()\n",
        "x = x.sort_values(ascending = False) \n",
        "x = x[:10]\n",
        "\n",
        "ditribution_plot(x=x.index, y=x.values, yaxis=\"Count\", xaxis=\"Products\")"
      ],
      "metadata": {
        "id": "Lm7xtRXdM1T6"
      },
      "execution_count": null,
      "outputs": []
    },
    {
      "cell_type": "code",
      "source": [
        "one_hot = pd.get_dummies(df['itemDescription'])\n",
        "df.drop('itemDescription', inplace=True, axis=1)\n",
        "df = df.join(one_hot)\n",
        "df.head()"
      ],
      "metadata": {
        "id": "KhCLSBrYM5Un"
      },
      "execution_count": null,
      "outputs": []
    },
    {
      "cell_type": "code",
      "source": [
        "records = df.groupby([\"Member_number\",\"Date\"])[all_products[:]].apply(sum)\n",
        "records = records.reset_index()[all_products]"
      ],
      "metadata": {
        "id": "gJr5CJ17M-K2"
      },
      "execution_count": 32,
      "outputs": []
    },
    {
      "cell_type": "code",
      "source": [
        "def get_Pnames(x):\n",
        "    for product in all_products:\n",
        "        if x[product] > 0:\n",
        "            x[product] = product\n",
        "    return x\n",
        "\n",
        "records = records.apply(get_Pnames, axis=1)\n",
        "records.head()"
      ],
      "metadata": {
        "id": "1jytepZvNGnm"
      },
      "execution_count": null,
      "outputs": []
    },
    {
      "cell_type": "code",
      "source": [
        "print(\"Total Transactions: {}\".format(len(records)))"
      ],
      "metadata": {
        "id": "Qc2amtxjNjoo"
      },
      "execution_count": null,
      "outputs": []
    },
    {
      "cell_type": "code",
      "source": [
        "x = records.values\n",
        "x = [sub[~(sub == 0)].tolist() for sub in x if sub[sub != 0].tolist()]\n",
        "transactions = x"
      ],
      "metadata": {
        "id": "cvUzYfJwNod2"
      },
      "execution_count": 35,
      "outputs": []
    },
    {
      "cell_type": "code",
      "source": [
        "transactions[0:10]"
      ],
      "metadata": {
        "id": "-xOoJimONsgn"
      },
      "execution_count": null,
      "outputs": []
    },
    {
      "cell_type": "code",
      "source": [
        "rules = apriori(transactions,min_support=0.00030,min_confidance=0.05,min_lift=3,min_length=2,target=\"rules\")\n",
        "association_results = list(rules)"
      ],
      "metadata": {
        "id": "oyj8yWNlNwVr"
      },
      "execution_count": 37,
      "outputs": []
    },
    {
      "cell_type": "code",
      "source": [
        "for item in association_results:\n",
        "\n",
        "    pair = item[0] \n",
        "    items = [x for x in pair]\n",
        "    print(\"Rule: \" + items[0] + \" -> \" + items[1])\n",
        "\n",
        "    print(\"Support: \" + str(item[1]))\n",
        "\n",
        "    print(\"Confidence: \" + str(item[2][0][2]))\n",
        "    print(\"Lift: \" + str(item[2][0][3]))\n",
        "    print(\"=====================================\")"
      ],
      "metadata": {
        "id": "btpEanfTN1zp"
      },
      "execution_count": null,
      "outputs": []
    }
  ]
}